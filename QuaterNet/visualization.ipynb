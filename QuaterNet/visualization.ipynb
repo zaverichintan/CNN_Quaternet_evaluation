{
 "cells": [
  {
   "cell_type": "code",
   "execution_count": null,
   "metadata": {
    "pycharm": {
     "is_executing": false
    }
   },
   "outputs": [],
   "source": [
    "# Copyright (c) 2018-present, Facebook, Inc.\n",
    "# All rights reserved.\n",
    "#\n",
    "# This source code is licensed under the license found in the\n",
    "# LICENSE file in the root directory of this source tree.\n",
    "#\n",
    "\n",
    "import torch\n",
    "import numpy as np\n",
    "import matplotlib.pyplot as plt\n",
    "from common.visualization import render_animation\n",
    "from IPython.display import HTML"
   ]
  },
  {
   "cell_type": "markdown",
   "metadata": {},
   "source": [
    "# Human3.6M Visualization"
   ]
  },
  {
   "cell_type": "code",
   "execution_count": null,
   "metadata": {
    "pycharm": {
     "is_executing": false
    }
   },
   "outputs": [],
   "source": [
    "from short_term.dataset_h36m import dataset as h36m\n",
    "\n",
    "if torch.cuda.is_available():\n",
    "    h36m.cuda()\n",
    "h36m.compute_positions() # Forward kinematics on all animations"
   ]
  },
  {
   "cell_type": "code",
   "execution_count": null,
   "metadata": {
    "pycharm": {
     "is_executing": false
    }
   },
   "outputs": [],
   "source": [
    "h36m.subjects()"
   ]
  },
  {
   "cell_type": "code",
   "execution_count": null,
   "metadata": {
    "pycharm": {
     "is_executing": false
    }
   },
   "outputs": [],
   "source": [
    "h36m['S1'].keys()"
   ]
  },
  {
   "cell_type": "markdown",
   "metadata": {},
   "source": [
    "The *_d0* or *_d1* suffix represents the version of the sequence after downsampling (even/odd)."
   ]
  },
  {
   "cell_type": "code",
   "execution_count": null,
   "metadata": {
    "pycharm": {
     "is_executing": false
    }
   },
   "outputs": [],
   "source": [
    "# You can visualize the data as inline HTML5 video\n",
    "HTML(render_animation(h36m['S1']['walking_1_d0']['positions_world'][:150], h36m.skeleton(), h36m.fps(), output='html'))"
   ]
  },
  {
   "cell_type": "code",
   "execution_count": null,
   "metadata": {
    "pycharm": {
     "is_executing": false
    }
   },
   "outputs": [],
   "source": [
    "# Alternatively, you can visualize it interactively using the nbagg backend\n",
    "%matplotlib notebook\n",
    "anim = render_animation(h36m['S1']['sitting_1_d0']['positions_world'][:150], h36m.skeleton(), h36m.fps(), output='interactive')"
   ]
  },
  {
   "cell_type": "markdown",
   "metadata": {},
   "source": [
    "# Locomotion generation"
   ]
  },
  {
   "cell_type": "code",
   "execution_count": null,
   "metadata": {
    "pycharm": {
     "is_executing": false
    }
   },
   "outputs": [],
   "source": [
    "from long_term.dataset_locomotion import dataset, long_term_weights_path\n",
    "from long_term.locomotion_utils import build_extra_features, compute_splines\n",
    "from long_term.pose_network_long_term import PoseNetworkLongTerm\n",
    "from common.spline import Spline\n",
    "\n",
    "if torch.cuda.is_available():\n",
    "    dataset.cuda()\n",
    "dataset.compute_positions()\n",
    "build_extra_features(dataset)\n",
    "compute_splines(dataset)"
   ]
  },
  {
   "cell_type": "code",
   "execution_count": null,
   "metadata": {
    "pycharm": {
     "is_executing": false
    }
   },
   "outputs": [],
   "source": [
    "dataset.subjects() # This dataset has no subject mapping"
   ]
  },
  {
   "cell_type": "code",
   "execution_count": null,
   "metadata": {
    "pycharm": {
     "is_executing": false
    }
   },
   "outputs": [],
   "source": [
    "# Show 20 random actions\n",
    "np.random.seed(1)\n",
    "np.random.choice(list(dataset['S1']), size=20)"
   ]
  },
  {
   "cell_type": "markdown",
   "metadata": {},
   "source": [
    "Since we downsample the dataset from 120 FPS to 30 FPS, we preserve all four strides (from *_d0* to *_d3*). The samples with the suffix *_m* are mirrored."
   ]
  },
  {
   "cell_type": "code",
   "execution_count": null,
   "metadata": {
    "pycharm": {
     "is_executing": false
    }
   },
   "outputs": [],
   "source": [
    "# Let's visualize a sequence from the training set\n",
    "HTML(render_animation(dataset['S1']['run_4_d0']['positions_world'][:200], dataset.skeleton(), dataset.fps(), output='html'))"
   ]
  },
  {
   "cell_type": "code",
   "execution_count": null,
   "metadata": {
    "pycharm": {
     "is_executing": false
    }
   },
   "outputs": [],
   "source": [
    "from long_term.pace_network import PaceNetwork\n",
    "\n",
    "# Now, we load the pace network and infer the spline parameters from the trajectory\n",
    "pace_net = PaceNetwork()\n",
    "pace_net.load_weights('weights_pace_network.bin')\n",
    "spline = Spline(dataset['S1']['run_4_d0']['trajectory'][:, [0, 2]], closed=False)"
   ]
  },
  {
   "cell_type": "code",
   "execution_count": null,
   "metadata": {
    "pycharm": {
     "is_executing": false
    }
   },
   "outputs": [],
   "source": [
    "# We want the character to run\n",
    "%matplotlib inline\n",
    "spline_run = pace_net.predict(spline, average_speed=1.2)\n",
    "plt.plot(spline_run.get_track('curvature'))\n",
    "plt.plot(spline_run.get_track('amplitude'))\n",
    "plt.plot(spline_run.get_track('frequency'))\n",
    "plt.legend(['Curvature', 'Local speed', 'Footstep frequency'])\n",
    "_ = plt.xlabel('Spline travel distance')"
   ]
  },
  {
   "cell_type": "code",
   "execution_count": null,
   "metadata": {
    "pycharm": {
     "is_executing": false
    }
   },
   "outputs": [],
   "source": [
    "# We want the character to walk\n",
    "%matplotlib inline\n",
    "spline_walk = pace_net.predict(spline, average_speed=0.5)\n",
    "plt.plot(spline_walk.get_track('curvature'))\n",
    "plt.plot(spline_walk.get_track('amplitude'))\n",
    "plt.plot(spline_walk.get_track('frequency'))\n",
    "plt.legend(['Curvature', 'Local speed', 'Footstep frequency'])\n",
    "_ = plt.xlabel('Spline travel distance')"
   ]
  },
  {
   "cell_type": "code",
   "execution_count": null,
   "metadata": {
    "pycharm": {
     "is_executing": false
    }
   },
   "outputs": [],
   "source": [
    "model = PoseNetworkLongTerm(30, dataset.skeleton())\n",
    "if torch.cuda.is_available():\n",
    "    model.cuda()\n",
    "model.load_weights(long_term_weights_path) # Load pretrained model"
   ]
  },
  {
   "cell_type": "code",
   "execution_count": null,
   "metadata": {
    "pycharm": {
     "is_executing": false
    }
   },
   "outputs": [],
   "source": [
    "# Now let's generate the actual video (for running)\n",
    "prediction = model.generate_motion(spline_run, dataset['S1']['run_4_d0'])\n",
    "HTML(render_animation(prediction[100:300], dataset.skeleton(), dataset.fps(), output='html'))"
   ]
  },
  {
   "cell_type": "code",
   "execution_count": null,
   "metadata": {
    "pycharm": {
     "is_executing": false
    }
   },
   "outputs": [],
   "source": [
    "# (for walking)\n",
    "prediction = model.generate_motion(spline_walk, dataset['S1']['walk_1_d0'])\n",
    "HTML(render_animation(prediction[100:300], dataset.skeleton(), dataset.fps(), output='html'))"
   ]
  },
  {
   "cell_type": "markdown",
   "metadata": {},
   "source": [
    "You can also build your own spline.\n",
    "For instance, we could define a circular trajectory."
   ]
  },
  {
   "cell_type": "code",
   "execution_count": null,
   "metadata": {
    "pycharm": {
     "is_executing": false
    }
   },
   "outputs": [],
   "source": [
    "%matplotlib inline\n",
    "points = np.linspace(0, 2*np.pi, 100)\n",
    "radius = 20\n",
    "trajectory = radius * np.stack((np.cos(points), np.sin(points)), axis=1)\n",
    "plt.plot(*trajectory.T)\n",
    "_ = plt.axis('equal')"
   ]
  },
  {
   "cell_type": "code",
   "execution_count": null,
   "metadata": {
    "pycharm": {
     "is_executing": false
    }
   },
   "outputs": [],
   "source": [
    "spline_circle = Spline(trajectory, closed=True)\n",
    "spline_circle = pace_net.predict(spline_circle, average_speed=1.0)\n",
    "prediction = model.generate_motion(spline_circle, dataset['S1']['jog_1_d0'])"
   ]
  },
  {
   "cell_type": "code",
   "execution_count": null,
   "metadata": {
    "pycharm": {
     "is_executing": false
    }
   },
   "outputs": [],
   "source": [
    "HTML(render_animation(prediction, dataset.skeleton(), dataset.fps(), output='html'))"
   ]
  },
  {
   "cell_type": "code",
   "execution_count": null,
   "metadata": {
    "pycharm": {
     "is_executing": false
    }
   },
   "outputs": [],
   "source": [
    "# You can also save the animation as an MP4 video (requires ffmpeg)\n",
    "render_animation(prediction, dataset.skeleton(), dataset.fps(), output='anim.mp4', bitrate=1000)"
   ]
  },
  {
   "cell_type": "code",
   "execution_count": null,
   "metadata": {
    "pycharm": {
     "is_executing": false
    }
   },
   "outputs": [],
   "source": [
    "# ... or a gif (requires imagemagick)\n",
    "render_animation(prediction, dataset.skeleton(), dataset.fps(), output='anim.gif')"
   ]
  },
  {
   "cell_type": "code",
   "execution_count": null,
   "metadata": {
    "pycharm": {
     "is_executing": false
    }
   },
   "outputs": [],
   "source": [
    "render_animation(dataset['S1']['run_1_d0']['positions_world'][50:200], dataset.skeleton(), dataset.fps(), output='demo.gif')"
   ]
  },
  {
   "cell_type": "code",
   "execution_count": null,
   "metadata": {
    "pycharm": {
     "is_executing": false
    }
   },
   "outputs": [],
   "source": []
  },
  {
   "cell_type": "code",
   "execution_count": null,
   "metadata": {
    "pycharm": {
     "is_executing": false
    }
   },
   "outputs": [],
   "source": []
  },
  {
   "cell_type": "code",
   "execution_count": null,
   "metadata": {
    "pycharm": {
     "is_executing": false
    }
   },
   "outputs": [],
   "source": []
  }
 ],
 "metadata": {
  "kernelspec": {
   "display_name": "Python 3",
   "language": "python",
   "name": "python3"
  },
  "language_info": {
   "codemirror_mode": {
    "name": "ipython",
    "version": 3
   },
   "file_extension": ".py",
   "mimetype": "text/x-python",
   "name": "python",
   "nbconvert_exporter": "python",
   "pygments_lexer": "ipython3",
   "version": "3.7.4"
  }
 },
 "nbformat": 4,
 "nbformat_minor": 2
}